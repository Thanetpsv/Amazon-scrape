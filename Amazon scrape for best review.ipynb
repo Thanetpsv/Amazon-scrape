{
 "cells": [
  {
   "cell_type": "code",
   "execution_count": 1,
   "metadata": {},
   "outputs": [],
   "source": [
    "from selenium import webdriver\n",
    "from selenium.webdriver.common.keys import Keys\n",
    "from selenium.webdriver.common.by import By\n",
    "from selenium.webdriver.support.ui import WebDriverWait\n",
    "from selenium.webdriver.support import expected_conditions as EC\n",
    "from bs4 import BeautifulSoup"
   ]
  },
  {
   "cell_type": "code",
   "execution_count": 9,
   "metadata": {},
   "outputs": [
    {
     "name": "stdout",
     "output_type": "stream",
     "text": [
      "Search your item: airpods\n"
     ]
    }
   ],
   "source": [
    "base_amazon_url = 'https://www.amazon.com/s?k='\n",
    "components = str(input('Search your item: ')).split()\n",
    "\n",
    "def make_amazon_url(base, comp):\n",
    "    amazon_url = base_amazon_url\n",
    "\n",
    "    for a in comp:\n",
    "        amazon_url = '{}+{}'.format(amazon_url, a)\n",
    "    return amazon_url\n",
    "amazon_url = make_amazon_url(base_amazon_url, components)"
   ]
  },
  {
   "cell_type": "code",
   "execution_count": 10,
   "metadata": {},
   "outputs": [],
   "source": [
    "PATH = \"C:\\Program Files (x86)\\chromedriver.exe\"\n",
    "adriver = webdriver.Chrome(PATH)\n",
    "adriver.get(amazon_url)\n",
    "\n",
    "try:\n",
    "    main = WebDriverWait(adriver, 10).until(\n",
    "        EC.presence_of_element_located((By.CLASS_NAME, \"sg-col-inner\"))\n",
    "    )\n",
    "    html_doc_a = adriver.page_source\n",
    "    soup = BeautifulSoup(html_doc_a,'lxml')\n",
    "finally:\n",
    "    adriver.quit()"
   ]
  },
  {
   "cell_type": "code",
   "execution_count": 11,
   "metadata": {},
   "outputs": [],
   "source": [
    "aitem = soup.find('div', class_='s-include-content-margin s-border-bottom s-latency-cf-section')"
   ]
  },
  {
   "cell_type": "code",
   "execution_count": 12,
   "metadata": {},
   "outputs": [],
   "source": [
    "atitle = aitem.find('span', class_='a-size-medium a-color-base a-text-normal').text\n",
    "areview = aitem.find('span', class_='a-size-base').text\n",
    "astar = aitem.find('span', class_='a-icon-alt').text\n",
    "alink = (aitem.find('a', class_='a-link-normal')['href'])"
   ]
  },
  {
   "cell_type": "code",
   "execution_count": 13,
   "metadata": {},
   "outputs": [
    {
     "name": "stdout",
     "output_type": "stream",
     "text": [
      "39.\n"
     ]
    }
   ],
   "source": [
    "aprice = aitem.find('span', class_='a-price-whole').text"
   ]
  },
  {
   "cell_type": "code",
   "execution_count": 14,
   "metadata": {},
   "outputs": [
    {
     "name": "stdout",
     "output_type": "stream",
     "text": [
      "Title: Bluetooth Earbuds, Bluetooth 5.0 Headphones Wireless Earbuds 35H Cycle Playtime in-Ear Wireless Headphones Hi-Fi Stereo Sweatproof Earphones Sport Headsets Built-in Mic for Work/Running/Travel/Gym\n",
      "Total Reviews: 533\n",
      "Price: 28.\n",
      "Link: https://amazon.com/dp/B0839BFCK7/ref=sr_1_8?dchild=1&keywords=airpods&qid=1589809946&sr=8-8\n",
      "\n"
     ]
    }
   ],
   "source": [
    "areview_list = []\n",
    "astar_list = []\n",
    "atitle_list = []\n",
    "alink_list = []\n",
    "aprice_list = []\n",
    "\n",
    "for aitem in soup.find_all('div', class_='s-include-content-margin s-border-bottom s-latency-cf-section'):\n",
    "\n",
    "    try:\n",
    "        areview = int(aitem.find('span', class_='a-size-base').text)\n",
    "        astar = aitem.find('span', class_='a-icon-alt').text\n",
    "        areview_list.append(areview)\n",
    "        astar_list.append(astar)\n",
    "        aprice = aitem.find('span', class_='a-price-whole').text\n",
    "        aprice_list.append(aprice)\n",
    "    except:\n",
    "        pass\n",
    "        areview_list.append(0)\n",
    "        astar_list.append(0)\n",
    "        aprice_list.append('Item not available in your region'.upper())\n",
    "        aindex = areview_list.index(max(areview_list))\n",
    "    \n",
    "    atitle = aitem.find('span', class_='a-size-medium a-color-base a-text-normal').text\n",
    "    atitle_list.append(atitle)\n",
    "    \n",
    "    alink = aitem.find('a', class_='a-link-normal')['href']\n",
    "    alink_list.append(alink)\n",
    "print(\"\"\"Title: {}\n",
    "Total Reviews: {}\n",
    "Price: {}\n",
    "Link: https://amazon.com{}\n",
    "\"\"\".format(atitle_list[aindex], areview_list[aindex], aprice_list[aindex], alink_list[aindex]))"
   ]
  },
  {
   "cell_type": "code",
   "execution_count": null,
   "metadata": {},
   "outputs": [],
   "source": []
  }
 ],
 "metadata": {
  "kernelspec": {
   "display_name": "Python 3",
   "language": "python",
   "name": "python3"
  },
  "language_info": {
   "codemirror_mode": {
    "name": "ipython",
    "version": 3
   },
   "file_extension": ".py",
   "mimetype": "text/x-python",
   "name": "python",
   "nbconvert_exporter": "python",
   "pygments_lexer": "ipython3",
   "version": "3.8.2"
  }
 },
 "nbformat": 4,
 "nbformat_minor": 4
}
